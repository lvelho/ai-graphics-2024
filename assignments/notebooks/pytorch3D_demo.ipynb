{
  "cells": [
    {
      "cell_type": "markdown",
      "metadata": {
        "colab_type": "text",
        "id": "view-in-github"
      },
      "source": [
        "<a href=\"https://colab.research.google.com/github/lvelho/ai-graphics-2024/blob/main/assignments/notebooks/pytorch3D_demo.ipynb\" target=\"_parent\"><img src=\"https://colab.research.google.com/assets/colab-badge.svg\" alt=\"Open In Colab\"/></a>"
      ]
    },
    {
      "cell_type": "markdown",
      "metadata": {
        "id": "hlemH8x2kMUW"
      },
      "source": [
        "# AI Graphics  | NYU 2024\n",
        "### Instructor: Luiz Velho\n",
        "\n",
        "## A demo of some functionalities of PyTorch3D"
      ]
    },
    {
      "cell_type": "code",
      "execution_count": null,
      "metadata": {
        "id": "su6N9qCvsNRN"
      },
      "outputs": [],
      "source": [
        "import os\n",
        "import sys\n",
        "import torch\n",
        "need_pytorch3d=False\n",
        "try:\n",
        "    import pytorch3d\n",
        "except ModuleNotFoundError:\n",
        "    need_pytorch3d=True\n",
        "if need_pytorch3d:\n",
        "    if torch.__version__.startswith((\"2.1.\")) and sys.platform.startswith(\"linux\"):\n",
        "        # We try to install PyTorch3D via a released wheel.\n",
        "        pyt_version_str=torch.__version__.split(\"+\")[0].replace(\".\", \"\")\n",
        "        version_str=\"\".join([\n",
        "            f\"py3{sys.version_info.minor}_cu\",\n",
        "            torch.version.cuda.replace(\".\",\"\"),\n",
        "            f\"_pyt{pyt_version_str}\"\n",
        "        ])\n",
        "        !pip install fvcore iopath\n",
        "        !pip install --no-index --no-cache-dir pytorch3d -f https://dl.fbaipublicfiles.com/pytorch3d/packaging/wheels/{version_str}/download.html\n",
        "    else:\n",
        "        # We try to install PyTorch3D from source.\n",
        "        !pip install 'git+https://github.com/facebookresearch/pytorch3d.git@stable'"
      ]
    },
    {
      "cell_type": "markdown",
      "metadata": {
        "id": "VgKLKDssk4lp"
      },
      "source": [
        "## Data Structures"
      ]
    },
    {
      "cell_type": "code",
      "execution_count": null,
      "metadata": {
        "id": "NwOeD42hsqN-"
      },
      "outputs": [],
      "source": [
        "from pytorch3d.structures import Meshes"
      ]
    },
    {
      "cell_type": "code",
      "execution_count": null,
      "metadata": {
        "id": "b9K0w2LZtzVy"
      },
      "outputs": [],
      "source": [
        "# Setup\n",
        "if torch.cuda.is_available():\n",
        "    device = torch.device(\"cuda:0\")\n",
        "    torch.cuda.set_device(device)\n",
        "else:\n",
        "    device = torch.device(\"cpu\")"
      ]
    },
    {
      "cell_type": "code",
      "execution_count": null,
      "metadata": {
        "id": "v_BYq8QI1UvA"
      },
      "outputs": [],
      "source": [
        "!wget -P . https://raw.githubusercontent.com/hallpaz/3dsystems20/master/extensions_utils/cube.py"
      ]
    },
    {
      "cell_type": "code",
      "execution_count": null,
      "metadata": {
        "id": "N17f8dtstYhJ"
      },
      "outputs": [],
      "source": [
        "# Vertex coordinates for a level 0 cube.\n",
        "_cube_verts0 = [\n",
        "    [-0.50, 0.50, 0.50],\n",
        "    [-0.50, -0.50, 0.50],\n",
        "    [0.50, -0.50, 0.50],\n",
        "    [0.50, 0.50, 0.50],\n",
        "\n",
        "    [-0.50, 0.50, -0.50],\n",
        "    [-0.50, -0.50, -0.50],\n",
        "    [0.50, -0.50, -0.50],\n",
        "    [0.50, 0.50, -0.50]\n",
        "]\n",
        "\n",
        "\n",
        "# Faces for level 0 cube\n",
        "_cube_faces0 = [\n",
        "    [0, 1, 2],\n",
        "    [2, 3, 0],\n",
        "    [7, 6, 5],\n",
        "    [4, 7, 5],\n",
        "    [6, 3, 2],\n",
        "    [3, 6, 7],\n",
        "    [4, 5, 0],\n",
        "    [0, 5, 1],\n",
        "    [3, 4, 0],\n",
        "    [4, 3, 7],\n",
        "    [2, 1, 5],\n",
        "    [5, 6, 2],\n",
        "]"
      ]
    },
    {
      "cell_type": "code",
      "execution_count": null,
      "metadata": {
        "id": "OGO_5eFdzqZw"
      },
      "outputs": [],
      "source": [
        "from cube import cube"
      ]
    },
    {
      "cell_type": "code",
      "execution_count": null,
      "metadata": {
        "id": "UUAmdlQXz2I4"
      },
      "outputs": [],
      "source": [
        "refinedcube = cube(1, device=device)"
      ]
    },
    {
      "cell_type": "code",
      "execution_count": null,
      "metadata": {
        "id": "OvJE3EXGs0SI"
      },
      "outputs": [],
      "source": [
        "verts_list = [torch.tensor(_cube_verts0, device=device), refinedcube.verts_list()[0]]\n",
        "faces_list = [torch.tensor(_cube_faces0, dtype=torch.int64, device=device), refinedcube.faces_list()[0]]\n",
        "\n",
        "mesh_batch = Meshes(verts=verts_list, faces=faces_list)"
      ]
    },
    {
      "cell_type": "markdown",
      "metadata": {
        "id": "Yc8E6hsKub0r"
      },
      "source": [
        "## Packed and Padded Tensors"
      ]
    },
    {
      "cell_type": "code",
      "execution_count": null,
      "metadata": {
        "id": "kxkYo-2QucJn"
      },
      "outputs": [],
      "source": [
        "# packed representation\n",
        "verts_packed = mesh_batch.verts_packed()\n",
        "\n",
        "# auxiliary tensors\n",
        "mesh_to_vert_idx = mesh_batch.mesh_to_verts_packed_first_idx()\n",
        "vert_to_mesh_idx = mesh_batch.verts_packed_to_mesh_idx()\n",
        "\n",
        "# edges\n",
        "edges = mesh_batch.edges_packed()\n",
        "\n",
        "# face normals\n",
        "face_normals = mesh_batch.faces_normals_packed()"
      ]
    },
    {
      "cell_type": "code",
      "execution_count": null,
      "metadata": {
        "id": "KbW2CzveycNV"
      },
      "outputs": [],
      "source": [
        "verts_packed"
      ]
    },
    {
      "cell_type": "code",
      "execution_count": null,
      "metadata": {
        "id": "X9Ip61bSymPp"
      },
      "outputs": [],
      "source": [
        "mesh_batch.verts_padded()"
      ]
    },
    {
      "cell_type": "markdown",
      "metadata": {
        "id": "0PqchT7-ujIS"
      },
      "source": [
        "## Input / Output"
      ]
    },
    {
      "cell_type": "code",
      "execution_count": null,
      "metadata": {
        "id": "2jW2lecO1Gxb"
      },
      "outputs": [],
      "source": [
        "!mkdir -p data\n",
        "!wget -P data https://dl.fbaipublicfiles.com/pytorch3d/data/cow_mesh/cow.obj\n",
        "!wget -P data https://dl.fbaipublicfiles.com/pytorch3d/data/cow_mesh/cow.mtl\n",
        "!wget -P data https://dl.fbaipublicfiles.com/pytorch3d/data/cow_mesh/cow_texture.png"
      ]
    },
    {
      "cell_type": "code",
      "execution_count": null,
      "metadata": {
        "id": "8lkYymVnuhfp"
      },
      "outputs": [],
      "source": [
        "from pytorch3d.io import load_obj"
      ]
    },
    {
      "cell_type": "code",
      "execution_count": null,
      "metadata": {
        "id": "63sgoCwAuiHG"
      },
      "outputs": [],
      "source": [
        "obj_file = \"data/cow.obj\"\n",
        "verts, faces, aux = load_obj(obj_file)\n",
        "\n",
        "faces = faces.verts_idx\n",
        "normals = aux.normals\n",
        "textures = aux.verts_uvs\n",
        "materials = aux.material_colors\n",
        "tex_maps = aux.texture_images"
      ]
    },
    {
      "cell_type": "code",
      "execution_count": null,
      "metadata": {
        "id": "GCU7cosX1-oe"
      },
      "outputs": [],
      "source": [
        "tex_maps"
      ]
    },
    {
      "cell_type": "code",
      "execution_count": null,
      "metadata": {
        "id": "cRgsokFO2S1r"
      },
      "outputs": [],
      "source": [
        "import matplotlib.pyplot as plt\n",
        "from pytorch3d.renderer import Textures"
      ]
    },
    {
      "cell_type": "code",
      "execution_count": null,
      "metadata": {
        "id": "0KT3sU9X2Yom"
      },
      "outputs": [],
      "source": [
        "plt.imshow(tex_maps['material_1'])"
      ]
    },
    {
      "cell_type": "markdown",
      "metadata": {
        "id": "ADvAzZCAurrz"
      },
      "source": [
        "# 3D Transforms"
      ]
    },
    {
      "cell_type": "code",
      "execution_count": null,
      "metadata": {
        "id": "IlS5FCuMusSy"
      },
      "outputs": [],
      "source": [
        "from pytorch3d.transforms import Transform3d, Rotate, Translate"
      ]
    },
    {
      "cell_type": "code",
      "execution_count": null,
      "metadata": {
        "id": "S7bTRvhvuxD6"
      },
      "outputs": [],
      "source": [
        "# example 1\n",
        "T = Translate(torch.FloatTensor([[1.0, 2.0, 3.0]]), device=device)\n",
        "R = Rotate(torch.FloatTensor([[0, 1, 0], [0, 0, 1], [1, 0, 0]]), device=device)\n",
        "RT = Transform3d(device=device).compose(R, T)"
      ]
    },
    {
      "cell_type": "code",
      "execution_count": null,
      "metadata": {
        "id": "NRJ8x-V49qjX"
      },
      "outputs": [],
      "source": [
        "RT.get_matrix()"
      ]
    },
    {
      "cell_type": "code",
      "execution_count": null,
      "metadata": {
        "id": "YquyzbfEu2TY"
      },
      "outputs": [],
      "source": [
        "# applying Transform\n",
        "verts_transformed = RT.transform_points(mesh_batch.verts_packed())\n",
        "verts_transformed"
      ]
    },
    {
      "cell_type": "markdown",
      "metadata": {
        "id": "Quww6Vt8vGLD"
      },
      "source": [
        "# Renderer"
      ]
    },
    {
      "cell_type": "code",
      "execution_count": null,
      "metadata": {
        "id": "_pz3Zq40vTZj"
      },
      "outputs": [],
      "source": [
        "from pytorch3d.renderer import (\n",
        "    OpenGLPerspectiveCameras, look_at_view_transform,\n",
        "    RasterizationSettings, BlendParams,\n",
        "    MeshRenderer, MeshRasterizer, HardPhongShader,\n",
        "    Textures\n",
        ")"
      ]
    },
    {
      "cell_type": "code",
      "execution_count": null,
      "metadata": {
        "id": "cbsodBqUu5PA"
      },
      "outputs": [],
      "source": [
        "R, T = look_at_view_transform(2.7, 10, 20)\n",
        "cameras = OpenGLPerspectiveCameras(device=device, R=R, T=T)\n",
        "raster_settings = RasterizationSettings(\n",
        "    image_size=512,\n",
        "    blur_radius=0.0,\n",
        "    faces_per_pixel=1, # sets the value of K\n",
        ")\n",
        "\n",
        "renderer = MeshRenderer(\n",
        "    rasterizer=MeshRasterizer(cameras=cameras, raster_settings=raster_settings),\n",
        "    shader=HardPhongShader(device=device, cameras=cameras)\n",
        ")"
      ]
    },
    {
      "cell_type": "code",
      "execution_count": null,
      "metadata": {
        "id": "EgzvvZqQ_5DX"
      },
      "outputs": [],
      "source": [
        "# Creating a texture for the mesh\n",
        "white_tex = torch.ones_like(mesh_batch.verts_padded())\n",
        "textures = Textures(verts_rgb=white_tex.to(device))\n",
        "mesh_batch.textures = textures"
      ]
    },
    {
      "cell_type": "code",
      "execution_count": null,
      "metadata": {
        "id": "oLA4K9_b_TJ0"
      },
      "outputs": [],
      "source": [
        "images = renderer(mesh_batch, cameras=cameras)"
      ]
    },
    {
      "cell_type": "code",
      "execution_count": null,
      "metadata": {
        "id": "5jux5okrAy2g"
      },
      "outputs": [],
      "source": [
        "def plot_side_by_side(images):\n",
        "  n = images.shape[0]\n",
        "  fig = plt.figure(figsize=(10, 10))\n",
        "  for i in range(n):\n",
        "    fig.add_subplot(1, n, i+1)\n",
        "    plt.imshow(images[i, ..., :3].cpu().numpy())\n",
        "    # plt.grid(\"off\");\n",
        "    # plt.axis(\"off\");"
      ]
    },
    {
      "cell_type": "code",
      "execution_count": null,
      "metadata": {
        "id": "cymbG-kzl1to"
      },
      "outputs": [],
      "source": [
        "plot_side_by_side(images)"
      ]
    },
    {
      "cell_type": "code",
      "execution_count": null,
      "metadata": {
        "id": "TG18uXGfoAl_"
      },
      "outputs": [],
      "source": [
        "from math import radians, cos, sin"
      ]
    },
    {
      "cell_type": "code",
      "execution_count": null,
      "metadata": {
        "id": "YpHTpbHFBNzk"
      },
      "outputs": [],
      "source": [
        "cos45 = cos(radians(45))\n",
        "sin45 = sin(radians(45))\n",
        "# applying a transform to the first mesh\n",
        "SR = Transform3d(device=device).scale(1.0, 1.5, 1.0).rotate(\n",
        "      R=torch.tensor([[cos45, -sin45, 0.0], [sin45, cos45, 0.0], [0.0, 0.0, 1.0]])\n",
        "    )\n",
        "verts0 = mesh_batch.verts_list()[0]\n",
        "verts0 = SR.transform_points(verts0)\n",
        "verts1 = mesh_batch.verts_list()[1]\n",
        "mesh_batch2 = Meshes(verts=[verts0, verts1], faces=mesh_batch.faces_list(), textures=mesh_batch.textures)"
      ]
    },
    {
      "cell_type": "code",
      "execution_count": null,
      "metadata": {
        "id": "iKBrPN7FmI5n"
      },
      "outputs": [],
      "source": [
        "plot_side_by_side(renderer(mesh_batch2))"
      ]
    },
    {
      "cell_type": "markdown",
      "metadata": {
        "id": "DeLykZx4Wk6L"
      },
      "source": [
        "## Challenge A\n",
        "\n",
        "1. Change the texture of the mesh_batch so that each of the cubes is colored differently.\n",
        "\n",
        "2. Experiment different transforms and compositions in terms of rotation, translation and scaling."
      ]
    },
    {
      "cell_type": "code",
      "execution_count": null,
      "metadata": {
        "id": "A01RbUsFVJoZ"
      },
      "outputs": [],
      "source": [
        "# write your code below this cell"
      ]
    },
    {
      "cell_type": "markdown",
      "metadata": {
        "id": "cTYq_fwz88ut"
      },
      "source": [
        "## Implicit Modeling and *cubify*"
      ]
    },
    {
      "cell_type": "code",
      "execution_count": null,
      "metadata": {
        "id": "cvzZGtki9FrY"
      },
      "outputs": [],
      "source": [
        "from pytorch3d.ops import cubify\n",
        "from pytorch3d.io import IO"
      ]
    },
    {
      "cell_type": "code",
      "execution_count": null,
      "metadata": {
        "id": "kmOdrjPI9zFP"
      },
      "outputs": [],
      "source": [
        "x_axis = [-1, 1]\n",
        "y_axis = [-1, 1]\n",
        "z_axis = [-1, 1]\n",
        "depth = 64\n",
        "height = 64\n",
        "width = 64\n",
        "\n",
        "volume = torch.zeros([depth, height, width])"
      ]
    },
    {
      "cell_type": "code",
      "execution_count": null,
      "metadata": {
        "id": "2NC9bXw4-KbD"
      },
      "outputs": [],
      "source": [
        "# some examples of surfaces defined implicitly\n",
        "sphere = lambda x: x[0]**2 + x[1]**2 + x[2]**2 - 0.8**2\n",
        "torus = lambda x: (0.6 - torch.sqrt(x[0]**2 + x[1]**2))**2 + x[2]**2 - 0.3**2"
      ]
    },
    {
      "cell_type": "code",
      "execution_count": null,
      "metadata": {
        "id": "KgjmSRxuJOYu"
      },
      "outputs": [],
      "source": [
        "function = sphere\n",
        "for d in range(depth):\n",
        "  for h in range(height):\n",
        "    for w in range(width):\n",
        "      x = (d - depth/2) / (depth/2)\n",
        "      y = (h - height/2) / (height/2)\n",
        "      z = (w - width/2) / (width/2)\n",
        "      point = torch.tensor([x, y, z])\n",
        "      if function(point) <= 0:\n",
        "        volume[d, h, w] = 1.0"
      ]
    },
    {
      "cell_type": "code",
      "execution_count": null,
      "metadata": {
        "id": "DgCZoL3nAvw-"
      },
      "outputs": [],
      "source": [
        "cubified = cubify(volume.unsqueeze(0), 0.7)"
      ]
    },
    {
      "cell_type": "code",
      "execution_count": null,
      "metadata": {
        "id": "hjn21bHIDr3w"
      },
      "outputs": [],
      "source": [
        "IO().save_mesh(cubified, \"cubified_mesh.obj\")\n",
        "\n",
        "# to view the object download the file and use, for example Meshlab."
      ]
    },
    {
      "cell_type": "markdown",
      "metadata": {
        "id": "_0bH_lilImFF"
      },
      "source": [
        "## Challenge B\n",
        "\n",
        "3. Can you substitute the ````for```` loops for vectorized operations using Numpy or PyTorch functions?\n",
        "\n",
        "4. Can you make the cubified sphere look \"rounded\"? \n",
        "\n",
        "5. Train a neural network to learn a occupancy function for a 3D surface. Use the ```cubify``` method to generate a mesh, and visualize it."
      ]
    }
  ],
  "metadata": {
    "accelerator": "GPU",
    "colab": {
      "include_colab_link": true,
      "provenance": []
    },
    "gpuClass": "standard",
    "kernelspec": {
      "display_name": "Python 3",
      "name": "python3"
    },
    "language_info": {
      "name": "python"
    }
  },
  "nbformat": 4,
  "nbformat_minor": 0
}
